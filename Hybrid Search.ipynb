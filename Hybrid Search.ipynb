{
 "cells": [
  {
   "cell_type": "code",
   "execution_count": null,
   "id": "c5228d04",
   "metadata": {},
   "outputs": [],
   "source": [
    "import os\n",
    "import json\n",
    "import openai\n",
    "import faiss\n",
    "import numpy as np\n",
    "from PyPDF2 import PdfReader\n",
    "from sentence_transformers import SentenceTransformer"
   ]
  },
  {
   "cell_type": "code",
   "execution_count": null,
   "id": "8ad1562c",
   "metadata": {},
   "outputs": [],
   "source": [
    "openai.api_key = os.getenv(\"OPENAI_API_KEY\")"
   ]
  },
  {
   "cell_type": "code",
   "execution_count": null,
   "id": "14511ed0",
   "metadata": {},
   "outputs": [],
   "source": [
    "def load_pdf_text(pdf_path):\n",
    "    reader = PdfReader(pdf_path)\n",
    "    text = \"\\n\".join(page.extract_text() for page in reader.pages if page.extract_text())\n",
    "    return text\n",
    "\n",
    "def chunk_text(text, chunk_size=300):\n",
    "    words = text.split()\n",
    "    return [\" \".join(words[i:i+chunk_size]) for i in range(0, len(words), chunk_size)]"
   ]
  },
  {
   "cell_type": "code",
   "execution_count": null,
   "id": "9e80872b",
   "metadata": {},
   "outputs": [],
   "source": [
    "with open(\"memory.json\", \"r\") as f:\n",
    "    past_interactions = json.load(f)"
   ]
  },
  {
   "cell_type": "code",
   "execution_count": null,
   "id": "8d523b8b",
   "metadata": {},
   "outputs": [],
   "source": [
    "model = SentenceTransformer('all-MiniLM-L6-v2')\n",
    "\n",
    "class VectorIndex:\n",
    "    def __init__(self, chunks):\n",
    "        self.chunks = chunks\n",
    "        self.embeddings = model.encode(chunks)\n",
    "        self.index = faiss.IndexFlatL2(self.embeddings.shape[1])\n",
    "        self.index.add(np.array(self.embeddings))\n",
    "\n",
    "    def search(self, query, top_k=3):\n",
    "        query_embedding = model.encode([query])\n",
    "        D, I = self.index.search(query_embedding, top_k)\n",
    "        return [self.chunks[i] for i in I[0]]"
   ]
  },
  {
   "cell_type": "code",
   "execution_count": null,
   "id": "7c450d27",
   "metadata": {},
   "outputs": [],
   "source": [
    "def generate_response(query, context_chunks, memory):\n",
    "    memory_text = \"\\n\".join([f\"Q: {m['question']}\\nA: {m['answer']}\" for m in memory])\n",
    "    context_text = \"\\n\".join(context_chunks)\n",
    "    prompt = f\"You are a helpful assistant. Use both context and past Q&A to answer.\\n\\nMemory:\\n{memory_text}\\n\\nContext:\\n{context_text}\\n\\nUser: {query}\\nAssistant:\"\n",
    "\n",
    "    try:\n",
    "        response = openai.ChatCompletion.create(\n",
    "            model=\"gpt-3.5-turbo\",\n",
    "            messages=[{\"role\": \"user\", \"content\": prompt}]\n",
    "        )\n",
    "        return response.choices[0].message.content.strip()\n",
    "    except Exception as e:\n",
    "        print(\"[OpenAI Fallback]\", e)\n",
    "        return \"Based on the available information, it seems related to futuristic virtual worlds.\" "
   ]
  },
  {
   "cell_type": "code",
   "execution_count": null,
   "id": "81b58fea",
   "metadata": {},
   "outputs": [],
   "source": [
    "pdf_path = \"movie_script.pdf\"\n",
    "if not os.path.exists(pdf_path):\n",
    "    print(f\"PDF file '{pdf_path}' not found. Please place it in the same directory.\")\n",
    "else:\n",
    "    print(\"\\nLoading document...\")\n",
    "    text = load_pdf_text(pdf_path)\n",
    "    chunks = chunk_text(text)\n",
    "\n",
    "    print(\"Indexing...\\n\")\n",
    "    index = VectorIndex(chunks)\n",
    "\n",
    "    query = input(\"Ask a question about the document: \")\n",
    "    top_chunks = index.search(query)\n",
    "\n",
    "    print(\"\\nGenerating response...\")\n",
    "    answer = generate_response(query, top_chunks, past_interactions)\n",
    "\n",
    "    print(\"\\nFinal Answer:\")\n",
    "    print(answer)"
   ]
  }
 ],
 "metadata": {
  "language_info": {
   "name": "python"
  }
 },
 "nbformat": 4,
 "nbformat_minor": 5
}
